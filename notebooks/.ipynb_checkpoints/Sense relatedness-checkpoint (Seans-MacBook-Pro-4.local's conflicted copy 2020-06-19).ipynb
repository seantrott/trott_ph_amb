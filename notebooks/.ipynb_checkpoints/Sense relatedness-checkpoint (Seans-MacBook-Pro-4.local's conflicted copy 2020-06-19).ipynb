{
 "cells": [
  {
   "cell_type": "markdown",
   "metadata": {},
   "source": [
    "## Comparing relatedness of same/different polysemous senses\n",
    "\n",
    "Using a [modified version](https://docs.google.com/spreadsheets/d/1bQGH6c0fSV6SW878RqsO2bTQgspxUZDnIzZysmjNjfQ/edit#gid=0) of the stimuli from Klepousniotou et al (2008), I will obtain contextualized embeddings for the target word, then compare these embeddings to those for targets occurring *within* vs. *across* sense boundaries. I will also ask whether relatedness scales with the amount of sense overlap."
   ]
  },
  {
   "cell_type": "code",
   "execution_count": 1,
   "metadata": {},
   "outputs": [],
   "source": [
    "import pandas as pd\n",
    "import seaborn as sns\n",
    "\n",
    "from scipy.spatial.distance import cosine\n",
    "from tqdm import tqdm"
   ]
  },
  {
   "cell_type": "code",
   "execution_count": 22,
   "metadata": {},
   "outputs": [],
   "source": [
    "%matplotlib inline\n",
    "%config InlineBackend.figure_format = 'retina'  # makes figs nicer!"
   ]
  },
  {
   "cell_type": "code",
   "execution_count": 3,
   "metadata": {},
   "outputs": [],
   "source": [
    "STIMULI_PATH = \"../data/stims/modified_stimuli.csv\""
   ]
  },
  {
   "cell_type": "markdown",
   "metadata": {},
   "source": [
    "### Load data"
   ]
  },
  {
   "cell_type": "code",
   "execution_count": 14,
   "metadata": {},
   "outputs": [
    {
     "data": {
      "text/html": [
       "<div>\n",
       "<style scoped>\n",
       "    .dataframe tbody tr th:only-of-type {\n",
       "        vertical-align: middle;\n",
       "    }\n",
       "\n",
       "    .dataframe tbody tr th {\n",
       "        vertical-align: top;\n",
       "    }\n",
       "\n",
       "    .dataframe thead th {\n",
       "        text-align: right;\n",
       "    }\n",
       "</style>\n",
       "<table border=\"1\" class=\"dataframe\">\n",
       "  <thead>\n",
       "    <tr style=\"text-align: right;\">\n",
       "      <th></th>\n",
       "      <th>Source</th>\n",
       "      <th>Word</th>\n",
       "      <th>Original Condition</th>\n",
       "      <th>M1_a</th>\n",
       "      <th>M1_b</th>\n",
       "      <th>M2_a</th>\n",
       "      <th>M2_b</th>\n",
       "      <th>Comments</th>\n",
       "      <th>K_relatedness</th>\n",
       "    </tr>\n",
       "  </thead>\n",
       "  <tbody>\n",
       "    <tr>\n",
       "      <th>0</th>\n",
       "      <td>Klepousniotou et al (2008)</td>\n",
       "      <td>lamb</td>\n",
       "      <td>high overlap</td>\n",
       "      <td>They liked the marinated lamb.</td>\n",
       "      <td>They liked the tender lamb.</td>\n",
       "      <td>They liked the baby lamb.</td>\n",
       "      <td>They liked the friendly lamb.</td>\n",
       "      <td>NaN</td>\n",
       "      <td>4.00</td>\n",
       "    </tr>\n",
       "    <tr>\n",
       "      <th>1</th>\n",
       "      <td>Klepousniotou et al (2008)</td>\n",
       "      <td>article</td>\n",
       "      <td>high overlap</td>\n",
       "      <td>It was a history article.</td>\n",
       "      <td>It was a well-written article.</td>\n",
       "      <td>It was a popular article.</td>\n",
       "      <td>It was a submitted article.</td>\n",
       "      <td>M2_b kind of odd</td>\n",
       "      <td>4.45</td>\n",
       "    </tr>\n",
       "    <tr>\n",
       "      <th>2</th>\n",
       "      <td>Klepousniotou et al (2008)</td>\n",
       "      <td>book</td>\n",
       "      <td>high overlap</td>\n",
       "      <td>He had the best-selling book.</td>\n",
       "      <td>He had the advertised book.</td>\n",
       "      <td>He had the heavy book.</td>\n",
       "      <td>He had the leather-bound book.</td>\n",
       "      <td>NaN</td>\n",
       "      <td>4.73</td>\n",
       "    </tr>\n",
       "    <tr>\n",
       "      <th>3</th>\n",
       "      <td>Klepousniotou et al (2008)</td>\n",
       "      <td>breakfast</td>\n",
       "      <td>high overlap</td>\n",
       "      <td>They ate a pancake breakfast.</td>\n",
       "      <td>They ate a nutritious breakfast.</td>\n",
       "      <td>They ate a family breakfast.</td>\n",
       "      <td>They ate a lonely breakfast.</td>\n",
       "      <td>M2_b kind odd b/c of singular \"they\"</td>\n",
       "      <td>4.45</td>\n",
       "    </tr>\n",
       "    <tr>\n",
       "      <th>4</th>\n",
       "      <td>Klepousniotou et al (2008)</td>\n",
       "      <td>chicken</td>\n",
       "      <td>high overlap</td>\n",
       "      <td>They liked the juicy chicken.</td>\n",
       "      <td>They liked the roasted chicken.</td>\n",
       "      <td>They liked the clucking chicken.</td>\n",
       "      <td>They liked the young chicken.</td>\n",
       "      <td>NaN</td>\n",
       "      <td>4.14</td>\n",
       "    </tr>\n",
       "  </tbody>\n",
       "</table>\n",
       "</div>"
      ],
      "text/plain": [
       "                       Source       Word Original Condition  \\\n",
       "0  Klepousniotou et al (2008)       lamb       high overlap   \n",
       "1  Klepousniotou et al (2008)    article       high overlap   \n",
       "2  Klepousniotou et al (2008)       book       high overlap   \n",
       "3  Klepousniotou et al (2008)  breakfast       high overlap   \n",
       "4  Klepousniotou et al (2008)    chicken       high overlap   \n",
       "\n",
       "                             M1_a                              M1_b  \\\n",
       "0  They liked the marinated lamb.       They liked the tender lamb.   \n",
       "1       It was a history article.    It was a well-written article.   \n",
       "2   He had the best-selling book.       He had the advertised book.   \n",
       "3   They ate a pancake breakfast.  They ate a nutritious breakfast.   \n",
       "4   They liked the juicy chicken.   They liked the roasted chicken.   \n",
       "\n",
       "                               M2_a                            M2_b  \\\n",
       "0         They liked the baby lamb.   They liked the friendly lamb.   \n",
       "1         It was a popular article.     It was a submitted article.   \n",
       "2            He had the heavy book.  He had the leather-bound book.   \n",
       "3      They ate a family breakfast.    They ate a lonely breakfast.   \n",
       "4  They liked the clucking chicken.   They liked the young chicken.   \n",
       "\n",
       "                               Comments  K_relatedness  \n",
       "0                                   NaN           4.00  \n",
       "1                      M2_b kind of odd           4.45  \n",
       "2                                   NaN           4.73  \n",
       "3  M2_b kind odd b/c of singular \"they\"           4.45  \n",
       "4                                   NaN           4.14  "
      ]
     },
     "execution_count": 14,
     "metadata": {},
     "output_type": "execute_result"
    }
   ],
   "source": [
    "df_stims = pd.read_csv(STIMULI_PATH)\n",
    "df_stims.head(5)"
   ]
  },
  {
   "cell_type": "code",
   "execution_count": 15,
   "metadata": {},
   "outputs": [
    {
     "data": {
      "text/plain": [
       "84"
      ]
     },
     "execution_count": 15,
     "metadata": {},
     "output_type": "execute_result"
    }
   ],
   "source": [
    "# Remove any problematic stims with comments. Overly conservative.\n",
    "df_filtered = df_stims[df_stims['Comments'].isna()].reset_index()\n",
    "len(df_filtered)"
   ]
  },
  {
   "cell_type": "code",
   "execution_count": 16,
   "metadata": {},
   "outputs": [
    {
     "data": {
      "text/plain": [
       "107"
      ]
     },
     "execution_count": 16,
     "metadata": {},
     "output_type": "execute_result"
    }
   ],
   "source": [
    "# Remove rows for which we don't have all versions coded\n",
    "df_filtered = df_stims[~df_stims['M1_b'].isna()].reset_index()\n",
    "len(df_filtered)"
   ]
  },
  {
   "cell_type": "markdown",
   "metadata": {},
   "source": [
    "### Load ELMo"
   ]
  },
  {
   "cell_type": "code",
   "execution_count": 7,
   "metadata": {},
   "outputs": [
    {
     "name": "stdout",
     "output_type": "stream",
     "text": [
      "Better speed can be achieved with apex installed from https://www.github.com/nvidia/apex.\n"
     ]
    }
   ],
   "source": [
    "from allennlp.commands.elmo import ElmoEmbedder"
   ]
  },
  {
   "cell_type": "code",
   "execution_count": 8,
   "metadata": {},
   "outputs": [],
   "source": [
    "elmo = ElmoEmbedder(\n",
    "    options_file='https://s3-us-west-2.amazonaws.com/allennlp/models/elmo/2x4096_512_2048cnn_2xhighway_5.5B/elmo_2x4096_512_2048cnn_2xhighway_5.5B_options.json', \n",
    "    weight_file='https://s3-us-west-2.amazonaws.com/allennlp/models/elmo/2x4096_512_2048cnn_2xhighway_5.5B/elmo_2x4096_512_2048cnn_2xhighway_5.5B_weights.hdf5'\n",
    ")"
   ]
  },
  {
   "cell_type": "markdown",
   "metadata": {},
   "source": [
    "### Embed sentences"
   ]
  },
  {
   "cell_type": "code",
   "execution_count": 17,
   "metadata": {},
   "outputs": [
    {
     "name": "stderr",
     "output_type": "stream",
     "text": [
      "100%|██████████| 107/107 [02:38<00:00,  1.35s/it]\n"
     ]
    }
   ],
   "source": [
    "distances = []\n",
    "with tqdm(total=len(df_filtered)) as progress_bar:\n",
    "    for index, row in df_filtered.iterrows():\n",
    "\n",
    "        # Extract condition, target word info, and mean relatedness\n",
    "        condition = row['Original Condition']\n",
    "        target_word = row['Word']\n",
    "        relatedness = row['K_relatedness']\n",
    "        source = row['Source']\n",
    "        \n",
    "        # Extract and split sentences\n",
    "        m1_a, m1_b = row['M1_a'].lower().replace(\".\", \"\").split(), row['M1_b'].lower().replace(\".\", \"\").split()\n",
    "        m2_a, m2_b = row['M2_a'].lower().replace(\".\", \"\").split(), row['M2_b'].lower().replace(\".\", \"\").split()\n",
    "\n",
    "        target_embeddings = {}\n",
    "        for label, sentence in [('m1_a', m1_a), \n",
    "                                ('m1_b', m1_b), \n",
    "                                ('m2_a', m2_a),\n",
    "                                ('m2_b', m2_b)]:\n",
    "            target_index = sentence.index(target_word)\n",
    "            target_embedding = elmo.embed_sentence(sentence)[2][target_index]\n",
    "            target_embeddings[label] = target_embedding\n",
    "        \n",
    "        distances.append({\n",
    "            'same': True,\n",
    "            'word': target_word,\n",
    "            'item': index,\n",
    "            'condition': condition,\n",
    "            'relatedness': relatedness,\n",
    "            'version': 'M1',\n",
    "            'source': source,\n",
    "            'distance': cosine(target_embeddings['m1_a'], target_embeddings['m1_b'])\n",
    "        })\n",
    "        distances.append({\n",
    "            'same': True,\n",
    "            'word': target_word,\n",
    "            'condition': condition,\n",
    "            'relatedness': relatedness,\n",
    "            'item': index,\n",
    "            'version': 'M2',\n",
    "            'source': source,\n",
    "            'distance': cosine(target_embeddings['m2_a'], target_embeddings['m2_b'])\n",
    "        })\n",
    "        distances.append({\n",
    "            'same': False,\n",
    "            'word': target_word,\n",
    "            'condition': condition,\n",
    "            'relatedness': relatedness,\n",
    "            'item': index,\n",
    "            'version': 'M1A_M2A',\n",
    "            'source': source,\n",
    "            'distance': cosine(target_embeddings['m1_a'], target_embeddings['m2_a'])\n",
    "        })\n",
    "        distances.append({\n",
    "            'same': False,\n",
    "            'word': target_word,\n",
    "            'condition': condition,\n",
    "            'relatedness': relatedness,\n",
    "            'item': index,\n",
    "            'version': 'M1A_M2B',\n",
    "            'source': source,\n",
    "            'distance': cosine(target_embeddings['m1_a'], target_embeddings['m2_b'])\n",
    "        })\n",
    "        distances.append({\n",
    "            'same': False,\n",
    "            'word': target_word,\n",
    "            'condition': condition,\n",
    "            'relatedness': relatedness,\n",
    "            'item': index,\n",
    "            'source': source,\n",
    "            'version': 'M1B_M2A',\n",
    "            'distance': cosine(target_embeddings['m1_b'], target_embeddings['m2_a'])\n",
    "        })\n",
    "        distances.append({\n",
    "            'same': False,\n",
    "            'word': target_word,\n",
    "            'condition': condition,\n",
    "            'relatedness': relatedness,\n",
    "            'item': index,\n",
    "            'source': source,\n",
    "            'version': 'M1B_M2B',\n",
    "            'distance': cosine(target_embeddings['m1_b'], target_embeddings['m2_b'])\n",
    "        })\n",
    "        progress_bar.update(1)\n",
    "        \n",
    "        "
   ]
  },
  {
   "cell_type": "code",
   "execution_count": 18,
   "metadata": {},
   "outputs": [],
   "source": [
    "df_distances = pd.DataFrame(distances)"
   ]
  },
  {
   "cell_type": "code",
   "execution_count": 19,
   "metadata": {},
   "outputs": [],
   "source": [
    "df_distances.to_csv(\"../data/processed/stims_processed.csv\")"
   ]
  },
  {
   "cell_type": "code",
   "execution_count": 23,
   "metadata": {},
   "outputs": [
    {
     "data": {
      "text/plain": [
       "<matplotlib.axes._subplots.AxesSubplot at 0x1a34c45e80>"
      ]
     },
     "execution_count": 23,
     "metadata": {},
     "output_type": "execute_result"
    },
    {
     "data": {
      "image/png": "[encoded data removed]",
      "text/plain": [
       "<Figure size 432x288 with 1 Axes>"
      ]
     },
     "metadata": {
      "image/png": {
       "height": 263,
       "width": 393
      },
      "needs_background": "light"
     },
     "output_type": "display_data"
    }
   ],
   "source": [
    "sns.boxplot(data = df_distances,\n",
    "           x = 'condition',\n",
    "           y = 'distance',\n",
    "           hue = \"same\")"
   ]
  },
  {
   "cell_type": "code",
   "execution_count": null,
   "metadata": {},
   "outputs": [],
   "source": []
  }
 ],
 "metadata": {
  "kernelspec": {
   "display_name": "Python 3",
   "language": "python",
   "name": "python3"
  },
  "language_info": {
   "codemirror_mode": {
    "name": "ipython",
    "version": 3
   },
   "file_extension": ".py",
   "mimetype": "text/x-python",
   "name": "python",
   "nbconvert_exporter": "python",
   "pygments_lexer": "ipython3",
   "version": "3.7.1"
  }
 },
 "nbformat": 4,
 "nbformat_minor": 2
}
